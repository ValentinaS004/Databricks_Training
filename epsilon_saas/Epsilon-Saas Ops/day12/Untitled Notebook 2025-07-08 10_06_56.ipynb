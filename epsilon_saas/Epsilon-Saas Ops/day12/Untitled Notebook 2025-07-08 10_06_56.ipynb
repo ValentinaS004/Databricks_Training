{
 "cells": [
  {
   "cell_type": "code",
   "execution_count": 0,
   "metadata": {
    "application/vnd.databricks.v1+cell": {
     "cellMetadata": {
      "byteLimit": 2048000,
      "rowLimit": 10000
     },
     "inputWidgets": {},
     "nuid": "2fed0d74-9168-4afb-a834-0ade630af1bd",
     "showTitle": false,
     "tableResultSettingsMap": {},
     "title": ""
    }
   },
   "outputs": [],
   "source": [
    "from pyspark.sql.types import DoubleType, StringType, StructType, StructField\n",
    " \n",
    "schema = StructType([\n",
    "  StructField(\"longitude\", DoubleType(), True),\n",
    "  StructField(\"latitude\", DoubleType(), True),\n",
    "  StructField(\"housing_median_age\", DoubleType(), True),\n",
    "  StructField(\"total_rooms\", DoubleType(), True),\n",
    "  StructField(\"total_bedrooms\", DoubleType(), True),\n",
    "  StructField(\"population\", DoubleType(), True),\n",
    "  StructField(\"households\", DoubleType(), True),\n",
    "  StructField(\"median_income\", DoubleType(), True),\n",
    "  StructField(\"median_house_value\", DoubleType(), True),\n",
    "  StructField(\"ocean_proximity\", StringType(), True)\n",
    "])\n",
    " \n",
    "housing_df = spark.read.format(\"csv\").schema(schema).option(\"header\", \"true\").load(\"/Volumes/saas/naval/raw/housing.csv\")"
   ]
  },
  {
   "cell_type": "code",
   "execution_count": 0,
   "metadata": {
    "application/vnd.databricks.v1+cell": {
     "cellMetadata": {
      "byteLimit": 2048000,
      "rowLimit": 10000
     },
     "inputWidgets": {},
     "nuid": "416c36b7-525e-4842-969e-52df5949e34c",
     "showTitle": false,
     "tableResultSettingsMap": {},
     "title": ""
    }
   },
   "outputs": [],
   "source": [
    "housing_df.write.mode(\"overwrite\").saveAsTable(\"saas.naval_silver.housing\")"
   ]
  },
  {
   "cell_type": "code",
   "execution_count": 0,
   "metadata": {
    "application/vnd.databricks.v1+cell": {
     "cellMetadata": {
      "byteLimit": 2048000,
      "rowLimit": 10000
     },
     "inputWidgets": {},
     "nuid": "4317a314-3152-46a0-8ea2-0371b0b13440",
     "showTitle": false,
     "tableResultSettingsMap": {},
     "title": ""
    }
   },
   "outputs": [],
   "source": [
    "housing_df.write.mode(\"overwrite\").saveAsTable(\"hive_metastore.default.housing\")"
   ]
  }
 ],
 "metadata": {
  "application/vnd.databricks.v1+notebook": {
   "computePreferences": null,
   "dashboards": [],
   "environmentMetadata": {
    "base_environment": "",
    "environment_version": "2"
   },
   "inputWidgetPreferences": null,
   "language": "python",
   "notebookMetadata": {
    "pythonIndentUnit": 4
   },
   "notebookName": "Untitled Notebook 2025-07-08 10_06_56",
   "widgets": {}
  },
  "language_info": {
   "name": "python"
  }
 },
 "nbformat": 4,
 "nbformat_minor": 0
}
