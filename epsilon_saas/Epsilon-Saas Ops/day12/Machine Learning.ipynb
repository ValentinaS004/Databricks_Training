{
 "cells": [
  {
   "cell_type": "code",
   "execution_count": 0,
   "metadata": {
    "application/vnd.databricks.v1+cell": {
     "cellMetadata": {},
     "inputWidgets": {},
     "nuid": "215f2ee5-42c9-45f2-a6cb-0311259e62c0",
     "showTitle": false,
     "tableResultSettingsMap": {},
     "title": ""
    }
   },
   "outputs": [],
   "source": [
    "supervised ML: (Labled data)\n",
    "Regression : continous value\n",
    "Classification: Spam or not spam\n",
    "\n",
    "\n",
    "Unsupervised ML: (Unlabled Data)"
   ]
  },
  {
   "cell_type": "code",
   "execution_count": 0,
   "metadata": {
    "application/vnd.databricks.v1+cell": {
     "cellMetadata": {},
     "inputWidgets": {},
     "nuid": "2cd1ba4f-c036-4cc0-87c1-97ef128176bf",
     "showTitle": false,
     "tableResultSettingsMap": {},
     "title": ""
    }
   },
   "outputs": [],
   "source": [
    "animal\n",
    "dog\n",
    "cat\n",
    "tiger\n",
    "\n",
    "\n",
    "animal_dog, animal_cat, animal_tiger\n",
    "1             0           0\n",
    "0             1           0\n",
    "0             0           1\n",
    "\n",
    "\n",
    "\n",
    "Databricks is cloud based analytics platform----[0.123,097523,93736,57848930,-1738940,0484734.]"
   ]
  },
  {
   "cell_type": "code",
   "execution_count": 0,
   "metadata": {
    "application/vnd.databricks.v1+cell": {
     "cellMetadata": {},
     "inputWidgets": {},
     "nuid": "8a1516d7-b5da-4edd-a1e6-7f43b10fbe83",
     "showTitle": false,
     "tableResultSettingsMap": {},
     "title": ""
    }
   },
   "outputs": [],
   "source": [
    "ML lifecyle \n",
    "1. EDA (pandas, pyspark, pandas api on spark)\n",
    "2. Feature engineering\n",
    "3. model training (base line model) (algorithm) 60%-70%\n",
    "4. Model tuning (hyperparameter tuning) 80%-90%\n",
    "5. Model evaluation (mertrics)\n",
    "6. model register uc\n",
    "7.serving model\n"
   ]
  }
 ],
 "metadata": {
  "application/vnd.databricks.v1+notebook": {
   "computePreferences": null,
   "dashboards": [],
   "environmentMetadata": {
    "base_environment": "",
    "environment_version": "2"
   },
   "inputWidgetPreferences": null,
   "language": "sql",
   "notebookMetadata": {
    "pythonIndentUnit": 4
   },
   "notebookName": "Machine Learning",
   "widgets": {}
  },
  "language_info": {
   "name": "sql"
  }
 },
 "nbformat": 4,
 "nbformat_minor": 0
}
