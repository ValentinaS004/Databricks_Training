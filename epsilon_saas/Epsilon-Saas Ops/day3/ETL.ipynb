{
 "cells": [
  {
   "cell_type": "code",
   "execution_count": 0,
   "metadata": {
    "application/vnd.databricks.v1+cell": {
     "cellMetadata": {
      "byteLimit": 2048000,
      "rowLimit": 10000
     },
     "inputWidgets": {},
     "nuid": "56d78291-7547-40e7-8ac9-45489d9dcbc6",
     "showTitle": false,
     "tableResultSettingsMap": {},
     "title": ""
    }
   },
   "outputs": [],
   "source": [
    "from pyspark.sql.functions import *"
   ]
  },
  {
   "cell_type": "code",
   "execution_count": 0,
   "metadata": {
    "application/vnd.databricks.v1+cell": {
     "cellMetadata": {
      "byteLimit": 2048000,
      "rowLimit": 10000
     },
     "inputWidgets": {},
     "nuid": "e3faf16b-901d-4b6a-affe-117bf45b34d6",
     "showTitle": true,
     "tableResultSettingsMap": {},
     "title": "E"
    }
   },
   "outputs": [],
   "source": [
    "input_path=\"/Volumes/saas/naval/raw/circuits.csv\"\n",
    "df=spark.read.csv(input_path,header=True,inferSchema=True)"
   ]
  },
  {
   "cell_type": "code",
   "execution_count": 0,
   "metadata": {
    "application/vnd.databricks.v1+cell": {
     "cellMetadata": {
      "byteLimit": 2048000,
      "rowLimit": 10000
     },
     "inputWidgets": {},
     "nuid": "77ddbad0-ac9e-4e23-8090-88e5176dee93",
     "showTitle": false,
     "tableResultSettingsMap": {},
     "title": ""
    }
   },
   "outputs": [],
   "source": [
    "#df1=df.withColumnRenamed(\"circuitId\",\"circuit_id\").withColumnRenamed(\"circuitRef\",\"circuit_ref\")\n",
    "#df2=df1.drop(\"url\")\n",
    "#df3=df2.withColumn(\"ingestion_date\",current_date())"
   ]
  },
  {
   "cell_type": "code",
   "execution_count": 0,
   "metadata": {
    "application/vnd.databricks.v1+cell": {
     "cellMetadata": {
      "byteLimit": 2048000,
      "rowLimit": 10000
     },
     "inputWidgets": {},
     "nuid": "827790ee-f407-43c6-88a6-146985cccd28",
     "showTitle": true,
     "tableResultSettingsMap": {},
     "title": "T"
    }
   },
   "outputs": [],
   "source": [
    "df_new=df\\\n",
    ".withColumnRenamed(\"circuitId\",\"circuit_id\")\\\n",
    ".withColumnRenamed(\"circuitRef\",\"circuit_ref\")\\\n",
    ".drop(\"url\")\\\n",
    ".withColumn(\"ingestion_date\",current_date())"
   ]
  },
  {
   "cell_type": "code",
   "execution_count": 0,
   "metadata": {
    "application/vnd.databricks.v1+cell": {
     "cellMetadata": {
      "byteLimit": 2048000,
      "rowLimit": 10000
     },
     "inputWidgets": {},
     "nuid": "a40a9f37-77d0-43bc-99cd-ceb2d05a6b00",
     "showTitle": true,
     "tableResultSettingsMap": {},
     "title": "L"
    }
   },
   "outputs": [],
   "source": [
    "df_new.write.mode(\"overwrite\").saveAsTable(\"saas.naval.circuits\")"
   ]
  },
  {
   "cell_type": "code",
   "execution_count": 0,
   "metadata": {
    "application/vnd.databricks.v1+cell": {
     "cellMetadata": {
      "byteLimit": 2048000,
      "rowLimit": 10000
     },
     "inputWidgets": {},
     "nuid": "d21334a5-8f2c-487f-8b60-8118e256b049",
     "showTitle": false,
     "tableResultSettingsMap": {},
     "title": ""
    }
   },
   "outputs": [],
   "source": [
    "#reading / Extracting\n",
    "input_path=\"/Volumes/saas/naval/raw/circuits.csv\"\n",
    "df=spark.read.csv(input_path,header=True,inferSchema=True)\n",
    "\n",
    "#transforming\n",
    "df_new=df\\\n",
    ".withColumnRenamed(\"circuitId\",\"circuit_id\")\\\n",
    ".withColumnRenamed(\"circuitRef\",\"circuit_ref\")\\\n",
    ".drop(\"url\")\\\n",
    ".withColumn(\"ingestion_date\",current_date())\n",
    "\n",
    "#writer/ Loading\n",
    "df_new.write.mode(\"overwrite\").saveAsTable(\"saas.naval.circuits\")\n"
   ]
  },
  {
   "cell_type": "code",
   "execution_count": 0,
   "metadata": {
    "application/vnd.databricks.v1+cell": {
     "cellMetadata": {
      "byteLimit": 2048000,
      "implicitDf": true,
      "rowLimit": 10000
     },
     "inputWidgets": {},
     "nuid": "d0489a76-a0ee-4047-84ab-c2376e2148a1",
     "showTitle": false,
     "tableResultSettingsMap": {},
     "title": ""
    }
   },
   "outputs": [],
   "source": [
    "%sql\n",
    "select * from saas.naval.circuits"
   ]
  }
 ],
 "metadata": {
  "application/vnd.databricks.v1+notebook": {
   "computePreferences": null,
   "dashboards": [],
   "environmentMetadata": {
    "base_environment": "",
    "environment_version": "2"
   },
   "inputWidgetPreferences": null,
   "language": "python",
   "notebookMetadata": {
    "mostRecentlyExecutedCommandWithImplicitDF": {
     "commandId": 8388085932284249,
     "dataframes": [
      "_sqldf"
     ]
    },
    "pythonIndentUnit": 4
   },
   "notebookName": "ETL",
   "widgets": {}
  },
  "language_info": {
   "name": "python"
  }
 },
 "nbformat": 4,
 "nbformat_minor": 0
}
