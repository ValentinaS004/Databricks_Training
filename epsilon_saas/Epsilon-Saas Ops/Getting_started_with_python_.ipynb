{
 "cells": [
  {
   "cell_type": "markdown",
   "metadata": {
    "application/vnd.databricks.v1+cell": {
     "cellMetadata": {},
     "inputWidgets": {},
     "nuid": "ce707533-3767-4be4-b3dc-d6d72e10ec64",
     "showTitle": false,
     "tableResultSettingsMap": {},
     "title": ""
    },
    "id": "Rnwg-52M-YYT"
   },
   "source": [
    "## Getting started with python- Day1"
   ]
  },
  {
   "cell_type": "code",
   "execution_count": 0,
   "metadata": {
    "application/vnd.databricks.v1+cell": {
     "cellMetadata": {},
     "inputWidgets": {},
     "nuid": "637b7659-4507-403e-a317-cbeeffc7c5b9",
     "showTitle": false,
     "tableResultSettingsMap": {},
     "title": ""
    },
    "id": "uqzRB1-p8zri"
   },
   "outputs": [],
   "source": [
    "Data Type (Immutable)\n",
    "int\n",
    "float\n",
    "string\n",
    "bool"
   ]
  },
  {
   "cell_type": "code",
   "execution_count": 0,
   "metadata": {
    "application/vnd.databricks.v1+cell": {
     "cellMetadata": {},
     "inputWidgets": {},
     "nuid": "10c60026-3f1c-4f65-9c8f-8e49d87894aa",
     "showTitle": false,
     "tableResultSettingsMap": {},
     "title": ""
    },
    "colab": {
     "base_uri": "https://localhost:8080/"
    },
    "id": "tR9OuM_09PEU",
    "outputId": "feeffd24-2d5a-4c98-e32d-2b46b8048db9"
   },
   "outputs": [],
   "source": [
    "a=10\n",
    "print(a)\n",
    "print(type(a))"
   ]
  },
  {
   "cell_type": "code",
   "execution_count": 0,
   "metadata": {
    "application/vnd.databricks.v1+cell": {
     "cellMetadata": {},
     "inputWidgets": {},
     "nuid": "1163549c-e02b-4a57-8327-125e85f7a57a",
     "showTitle": false,
     "tableResultSettingsMap": {},
     "title": ""
    },
    "colab": {
     "base_uri": "https://localhost:8080/"
    },
    "id": "IrXR6KjP-XOb",
    "outputId": "6b30948e-c06c-473b-cc51-8ab2bc116b1d"
   },
   "outputs": [],
   "source": [
    "a=10.5\n",
    "print(a)\n",
    "print(type(a))"
   ]
  },
  {
   "cell_type": "code",
   "execution_count": 0,
   "metadata": {
    "application/vnd.databricks.v1+cell": {
     "cellMetadata": {},
     "inputWidgets": {},
     "nuid": "c7537656-82a8-4276-a8b4-467f5b3020cb",
     "showTitle": false,
     "tableResultSettingsMap": {},
     "title": ""
    },
    "colab": {
     "base_uri": "https://localhost:8080/"
    },
    "id": "YEHoZK6e-ijW",
    "outputId": "015694b3-14db-4a35-e7c5-75056d9c3dac"
   },
   "outputs": [],
   "source": [
    "print(a)"
   ]
  },
  {
   "cell_type": "code",
   "execution_count": 0,
   "metadata": {
    "application/vnd.databricks.v1+cell": {
     "cellMetadata": {},
     "inputWidgets": {},
     "nuid": "3682853e-8b85-433d-83c9-6345a66514e5",
     "showTitle": false,
     "tableResultSettingsMap": {},
     "title": ""
    },
    "colab": {
     "base_uri": "https://localhost:8080/"
    },
    "id": "MKG3BD_l_AlR",
    "outputId": "ad62cf04-7795-4e5d-d3f3-3fed85bdaf10"
   },
   "outputs": [],
   "source": [
    "s=\"python\"\n",
    "print(type(s))\n",
    "print(s)"
   ]
  },
  {
   "cell_type": "code",
   "execution_count": 0,
   "metadata": {
    "application/vnd.databricks.v1+cell": {
     "cellMetadata": {},
     "inputWidgets": {},
     "nuid": "c0a64f39-cf03-4961-9613-526b37abc830",
     "showTitle": false,
     "tableResultSettingsMap": {},
     "title": ""
    },
    "colab": {
     "base_uri": "https://localhost:8080/"
    },
    "id": "ZIsqGKZK_K-y",
    "outputId": "3a006a3f-85a4-41be-8f83-cc4cd318080e"
   },
   "outputs": [],
   "source": [
    "n=\"\"\"databricks is data\n",
    "and ai company\"\"\"\n",
    "print(type(n))\n",
    "print(n)"
   ]
  },
  {
   "cell_type": "code",
   "execution_count": 0,
   "metadata": {
    "application/vnd.databricks.v1+cell": {
     "cellMetadata": {},
     "inputWidgets": {},
     "nuid": "a2b5e86f-9f52-4225-b3d5-7f15ea0f6e91",
     "showTitle": false,
     "tableResultSettingsMap": {},
     "title": ""
    },
    "colab": {
     "base_uri": "https://localhost:8080/"
    },
    "id": "MaLwg3_8_ZX9",
    "outputId": "c36f51b9-da57-4fac-f1fa-4557f2c52090"
   },
   "outputs": [],
   "source": [
    "b=True\n",
    "print(type(b))\n",
    "print(b)"
   ]
  },
  {
   "cell_type": "code",
   "execution_count": 0,
   "metadata": {
    "application/vnd.databricks.v1+cell": {
     "cellMetadata": {},
     "inputWidgets": {},
     "nuid": "45eaaf5e-663e-4c16-95b0-6bc670209311",
     "showTitle": false,
     "tableResultSettingsMap": {},
     "title": ""
    },
    "colab": {
     "base_uri": "https://localhost:8080/"
    },
    "id": "NX5mL0cw_v6o",
    "outputId": "7bf3e726-1b44-45fa-9887-966476390d8c"
   },
   "outputs": [],
   "source": [
    "d=\"10\"\n",
    "print(type(d))"
   ]
  },
  {
   "cell_type": "code",
   "execution_count": 0,
   "metadata": {
    "application/vnd.databricks.v1+cell": {
     "cellMetadata": {},
     "inputWidgets": {},
     "nuid": "7f7d203f-b6e1-44a3-b7f3-afffe3a1b949",
     "showTitle": false,
     "tableResultSettingsMap": {},
     "title": ""
    },
    "colab": {
     "base_uri": "https://localhost:8080/"
    },
    "id": "4vuthJtw_ofG",
    "outputId": "97a5e53f-dadb-4fec-ee82-237539991b1c"
   },
   "outputs": [],
   "source": [
    "c=\"False\"\n",
    "print(c)\n",
    "print(type(c))"
   ]
  },
  {
   "cell_type": "code",
   "execution_count": 0,
   "metadata": {
    "application/vnd.databricks.v1+cell": {
     "cellMetadata": {},
     "inputWidgets": {},
     "nuid": "b4d1d1d5-93d1-4714-aef4-1eb61a956521",
     "showTitle": false,
     "tableResultSettingsMap": {},
     "title": ""
    },
    "colab": {
     "base_uri": "https://localhost:8080/"
    },
    "id": "HtX7vSMtBMCJ",
    "outputId": "1620a62a-a431-4b19-8f32-2aae7973455c"
   },
   "outputs": [],
   "source": [
    "a=10\n",
    "print(a)\n",
    "print(type(a))\n",
    "print(id(a))"
   ]
  },
  {
   "cell_type": "code",
   "execution_count": 0,
   "metadata": {
    "application/vnd.databricks.v1+cell": {
     "cellMetadata": {},
     "inputWidgets": {},
     "nuid": "78c9aa23-eb0b-4ed0-b9f0-1ac00fec2d59",
     "showTitle": false,
     "tableResultSettingsMap": {},
     "title": ""
    },
    "colab": {
     "base_uri": "https://localhost:8080/"
    },
    "id": "iwJS5a3eB3m2",
    "outputId": "1be60695-5924-44ed-cc57-5a1fc9341e07"
   },
   "outputs": [],
   "source": [
    "a=20\n",
    "print(a)\n",
    "print(type(a))\n",
    "print(id(a))"
   ]
  },
  {
   "cell_type": "code",
   "execution_count": 0,
   "metadata": {
    "application/vnd.databricks.v1+cell": {
     "cellMetadata": {},
     "inputWidgets": {},
     "nuid": "12349f19-f61a-49c6-a2dc-a88c42d53fc7",
     "showTitle": false,
     "tableResultSettingsMap": {},
     "title": ""
    },
    "colab": {
     "base_uri": "https://localhost:8080/"
    },
    "id": "SFfhrLqlB4xs",
    "outputId": "fccd4b17-dd89-46b7-cdfd-d34703762d07"
   },
   "outputs": [],
   "source": [
    "b=20\n",
    "print(b)\n",
    "print(type(b))\n",
    "print(id(b))"
   ]
  },
  {
   "cell_type": "code",
   "execution_count": 0,
   "metadata": {
    "application/vnd.databricks.v1+cell": {
     "cellMetadata": {},
     "inputWidgets": {},
     "nuid": "3e8f092f-a9fc-4724-8624-0fd12d885202",
     "showTitle": false,
     "tableResultSettingsMap": {},
     "title": ""
    },
    "colab": {
     "base_uri": "https://localhost:8080/"
    },
    "id": "UvGTz6QCCwcs",
    "outputId": "3c3b3fec-3b39-4db5-c947-eff74b372c0f"
   },
   "outputs": [],
   "source": [
    "c=20\n",
    "print(c)\n",
    "print(type(c))\n",
    "print(id(c))"
   ]
  },
  {
   "cell_type": "code",
   "execution_count": 0,
   "metadata": {
    "application/vnd.databricks.v1+cell": {
     "cellMetadata": {},
     "inputWidgets": {},
     "nuid": "8b600654-0e7d-4f6e-b1f2-9fc3529ae80c",
     "showTitle": false,
     "tableResultSettingsMap": {},
     "title": ""
    },
    "colab": {
     "base_uri": "https://localhost:8080/"
    },
    "id": "8UIN1l-cEDDA",
    "outputId": "c98378ab-b25d-4149-96c2-f3025d132f96"
   },
   "outputs": [],
   "source": [
    "a=20\n",
    "print(a)\n",
    "print(type(a))\n",
    "print(id(a))"
   ]
  },
  {
   "cell_type": "code",
   "execution_count": 0,
   "metadata": {
    "application/vnd.databricks.v1+cell": {
     "cellMetadata": {},
     "inputWidgets": {},
     "nuid": "989fcd7b-5ef5-44ea-96b1-4b3b6958cd71",
     "showTitle": false,
     "tableResultSettingsMap": {},
     "title": ""
    },
    "colab": {
     "base_uri": "https://localhost:8080/"
    },
    "id": "7wN7XGooEKSR",
    "outputId": "bb626f36-05b1-4d1d-a495-b89826e85cf4"
   },
   "outputs": [],
   "source": [
    "a=30\n",
    "print(a)\n",
    "print(type(a))\n",
    "print(id(a))"
   ]
  },
  {
   "cell_type": "code",
   "execution_count": 0,
   "metadata": {
    "application/vnd.databricks.v1+cell": {
     "cellMetadata": {},
     "inputWidgets": {},
     "nuid": "01faae11-63dd-4049-bf9f-0960a4777f54",
     "showTitle": false,
     "tableResultSettingsMap": {},
     "title": ""
    },
    "colab": {
     "base_uri": "https://localhost:8080/"
    },
    "id": "R0C7BjMFEPKy",
    "outputId": "946b719c-6e58-4d5a-fdae-d647722d6bda"
   },
   "outputs": [],
   "source": [
    "b=20\n",
    "print(b)\n",
    "print(type(b))\n",
    "print(id(b))"
   ]
  },
  {
   "cell_type": "code",
   "execution_count": 0,
   "metadata": {
    "application/vnd.databricks.v1+cell": {
     "cellMetadata": {},
     "inputWidgets": {},
     "nuid": "3228aef8-8eeb-46a9-a73b-5fac2cfce9de",
     "showTitle": false,
     "tableResultSettingsMap": {},
     "title": ""
    },
    "colab": {
     "base_uri": "https://localhost:8080/"
    },
    "id": "oxl8AiS_Elw5",
    "outputId": "87ed5180-881f-462c-bb51-2df61aa239d9"
   },
   "outputs": [],
   "source": [
    "a=10\n",
    "b=float(a)\n",
    "print(b)\n",
    "print(type(a))\n",
    "print(type(b))"
   ]
  },
  {
   "cell_type": "code",
   "execution_count": 0,
   "metadata": {
    "application/vnd.databricks.v1+cell": {
     "cellMetadata": {},
     "inputWidgets": {},
     "nuid": "0795fb50-46ec-4671-92bd-a5fa9817fd89",
     "showTitle": false,
     "tableResultSettingsMap": {},
     "title": ""
    },
    "colab": {
     "base_uri": "https://localhost:8080/"
    },
    "id": "kiqDo4WEEzfu",
    "outputId": "fe6a2fc3-a9d3-4bc1-f759-8bab07b7446c"
   },
   "outputs": [],
   "source": [
    "a=10\n",
    "b=str(a)\n",
    "print(b)\n",
    "print(type(a))\n",
    "print(type(b))"
   ]
  },
  {
   "cell_type": "code",
   "execution_count": 0,
   "metadata": {
    "application/vnd.databricks.v1+cell": {
     "cellMetadata": {},
     "inputWidgets": {},
     "nuid": "c83a46e6-6494-4e1b-b4e6-c9e5c6555b73",
     "showTitle": false,
     "tableResultSettingsMap": {},
     "title": ""
    },
    "colab": {
     "base_uri": "https://localhost:8080/"
    },
    "id": "_Tdgm9XCF3zF",
    "outputId": "fb1e5a50-c8d1-4234-b137-88a1d35f8c12"
   },
   "outputs": [],
   "source": [
    "a=0\n",
    "b=bool(a)\n",
    "print(b)\n",
    "print(type(a))\n",
    "print(type(b))"
   ]
  },
  {
   "cell_type": "code",
   "execution_count": 0,
   "metadata": {
    "application/vnd.databricks.v1+cell": {
     "cellMetadata": {},
     "inputWidgets": {},
     "nuid": "bfbe61ac-0764-44da-8516-01a67d7f469d",
     "showTitle": false,
     "tableResultSettingsMap": {},
     "title": ""
    },
    "colab": {
     "base_uri": "https://localhost:8080/"
    },
    "id": "dt_VpxjPGOH6",
    "outputId": "d48b087d-c864-4662-e513-69a483a0769d"
   },
   "outputs": [],
   "source": [
    "s=\"10\"\n",
    "t=int(s)\n",
    "print(t)"
   ]
  },
  {
   "cell_type": "code",
   "execution_count": 0,
   "metadata": {
    "application/vnd.databricks.v1+cell": {
     "cellMetadata": {},
     "inputWidgets": {},
     "nuid": "7c19f42f-d20f-48e0-b3d4-df790243810d",
     "showTitle": false,
     "tableResultSettingsMap": {},
     "title": ""
    },
    "colab": {
     "base_uri": "https://localhost:8080/",
     "height": 176
    },
    "id": "uvlwHAQ-GGGs",
    "outputId": "ed8eecf4-6e64-43f6-eb5b-b979f0508808"
   },
   "outputs": [],
   "source": [
    "s=\"SQL\"\n",
    "t=int(s)\n",
    "print(t)"
   ]
  },
  {
   "cell_type": "code",
   "execution_count": 0,
   "metadata": {
    "application/vnd.databricks.v1+cell": {
     "cellMetadata": {},
     "inputWidgets": {},
     "nuid": "2bd654a8-0f76-4a94-b73d-0f89172b4cea",
     "showTitle": false,
     "tableResultSettingsMap": {},
     "title": ""
    },
    "colab": {
     "base_uri": "https://localhost:8080/"
    },
    "id": "wt8AvcB2HJIW",
    "outputId": "a686704d-d16f-4bf4-87b1-35371152661e"
   },
   "outputs": [],
   "source": [
    "s=\"Databricks\"\n",
    "print(s)"
   ]
  },
  {
   "cell_type": "code",
   "execution_count": 0,
   "metadata": {
    "application/vnd.databricks.v1+cell": {
     "cellMetadata": {},
     "inputWidgets": {},
     "nuid": "f56c93d2-2d26-4bb4-ae7b-b631e0be652f",
     "showTitle": false,
     "tableResultSettingsMap": {},
     "title": ""
    },
    "colab": {
     "base_uri": "https://localhost:8080/",
     "height": 35
    },
    "id": "N8-yLLcYHMX8",
    "outputId": "32edfb83-06a6-45ea-ef6b-00f8fdc19b21"
   },
   "outputs": [],
   "source": [
    "s[0]"
   ]
  },
  {
   "cell_type": "code",
   "execution_count": 0,
   "metadata": {
    "application/vnd.databricks.v1+cell": {
     "cellMetadata": {},
     "inputWidgets": {},
     "nuid": "3bf96948-efd5-49b6-a297-133a023fbd2d",
     "showTitle": false,
     "tableResultSettingsMap": {},
     "title": ""
    },
    "colab": {
     "base_uri": "https://localhost:8080/",
     "height": 35
    },
    "id": "uPmwdVJdHcnR",
    "outputId": "ffbd2e2b-7a3f-4271-c05f-a841cbb1b260"
   },
   "outputs": [],
   "source": [
    "s[-1]"
   ]
  },
  {
   "cell_type": "code",
   "execution_count": 0,
   "metadata": {
    "application/vnd.databricks.v1+cell": {
     "cellMetadata": {},
     "inputWidgets": {},
     "nuid": "020402ed-22a8-4405-858d-5eb5984e588e",
     "showTitle": false,
     "tableResultSettingsMap": {},
     "title": ""
    },
    "colab": {
     "base_uri": "https://localhost:8080/",
     "height": 35
    },
    "id": "xmAIHiswHhOX",
    "outputId": "5218ab2c-3e8e-4dda-a15a-fcc85848587a"
   },
   "outputs": [],
   "source": [
    "s[0:5]"
   ]
  },
  {
   "cell_type": "code",
   "execution_count": 0,
   "metadata": {
    "application/vnd.databricks.v1+cell": {
     "cellMetadata": {},
     "inputWidgets": {},
     "nuid": "46307180-396f-47e7-baa0-3d44fe995557",
     "showTitle": false,
     "tableResultSettingsMap": {},
     "title": ""
    },
    "colab": {
     "base_uri": "https://localhost:8080/",
     "height": 35
    },
    "id": "ClyPbx8CHsg2",
    "outputId": "cab16f82-8372-4490-932a-c92ea4fcf722"
   },
   "outputs": [],
   "source": [
    "s[:]"
   ]
  },
  {
   "cell_type": "code",
   "execution_count": 0,
   "metadata": {
    "application/vnd.databricks.v1+cell": {
     "cellMetadata": {},
     "inputWidgets": {},
     "nuid": "36b6da81-eb07-4c28-bc62-4012691af4b5",
     "showTitle": false,
     "tableResultSettingsMap": {},
     "title": ""
    },
    "colab": {
     "base_uri": "https://localhost:8080/"
    },
    "id": "MHnU5YvuIHJZ",
    "outputId": "378bfcb4-40bf-4430-e907-d5ce64c4d81f"
   },
   "outputs": [],
   "source": [
    "s=\"AWS\" + \"Databricks\"\n",
    "print(s)"
   ]
  },
  {
   "cell_type": "code",
   "execution_count": 0,
   "metadata": {
    "application/vnd.databricks.v1+cell": {
     "cellMetadata": {},
     "inputWidgets": {},
     "nuid": "c80c2323-cb60-47a6-b2c0-b63c0d2f6016",
     "showTitle": false,
     "tableResultSettingsMap": {},
     "title": ""
    },
    "id": "tI7Ii-D5Idyt"
   },
   "outputs": [],
   "source": [
    "s=\"AWS\" + \"Databricks\"\n",
    "print(s)"
   ]
  },
  {
   "cell_type": "code",
   "execution_count": 0,
   "metadata": {
    "application/vnd.databricks.v1+cell": {
     "cellMetadata": {},
     "inputWidgets": {},
     "nuid": "07f15c48-1ded-4e35-9e27-19218ef575d0",
     "showTitle": false,
     "tableResultSettingsMap": {},
     "title": ""
    },
    "colab": {
     "base_uri": "https://localhost:8080/",
     "height": 158
    },
    "id": "JkjT_7LfIvmH",
    "outputId": "9a486881-facd-48c3-f88f-a5c075467e7a"
   },
   "outputs": [],
   "source": [
    "s=\"AWS\" + 10\n",
    "print(s)"
   ]
  },
  {
   "cell_type": "code",
   "execution_count": 0,
   "metadata": {
    "application/vnd.databricks.v1+cell": {
     "cellMetadata": {},
     "inputWidgets": {},
     "nuid": "749d9721-7f2f-45bf-8481-7f4347011ceb",
     "showTitle": false,
     "tableResultSettingsMap": {},
     "title": ""
    },
    "colab": {
     "base_uri": "https://localhost:8080/",
     "height": 158
    },
    "id": "xURG1UlgIVdn",
    "outputId": "7e5a95b2-5e4e-4606-d873-ddb45d323631"
   },
   "outputs": [],
   "source": [
    "s=\"AWS\" * \"Databricks\"\n",
    "print(s)"
   ]
  },
  {
   "cell_type": "code",
   "execution_count": 0,
   "metadata": {
    "application/vnd.databricks.v1+cell": {
     "cellMetadata": {},
     "inputWidgets": {},
     "nuid": "fd66673f-a05a-4aaa-9153-5801d428f355",
     "showTitle": false,
     "tableResultSettingsMap": {},
     "title": ""
    },
    "colab": {
     "base_uri": "https://localhost:8080/"
    },
    "id": "zUaduU60Inrx",
    "outputId": "63e400b7-c22e-467e-f794-bd5d245f50bc"
   },
   "outputs": [],
   "source": [
    "s=\"AWS\" * 10\n",
    "print(s)"
   ]
  },
  {
   "cell_type": "markdown",
   "metadata": {
    "application/vnd.databricks.v1+cell": {
     "cellMetadata": {},
     "inputWidgets": {},
     "nuid": "7b6892ec-1957-43c3-9c7d-615f0d6e42f4",
     "showTitle": false,
     "tableResultSettingsMap": {},
     "title": ""
    },
    "id": "0N6WczHhI52G"
   },
   "source": [
    "plus(+)\n",
    "str + str\n",
    "\n",
    "(*)\n",
    "str* int"
   ]
  },
  {
   "cell_type": "markdown",
   "metadata": {
    "application/vnd.databricks.v1+cell": {
     "cellMetadata": {},
     "inputWidgets": {},
     "nuid": "44485700-48c8-4a38-9450-3beb924f245f",
     "showTitle": false,
     "tableResultSettingsMap": {},
     "title": ""
    },
    "id": "wXi24VusJv0H"
   },
   "source": [
    "# List []\n",
    "\n",
    "1.   allows duplicate\n",
    "2.   heterogenous  \n",
    "3. order is preserverd\n",
    "4. indexing & slicing\n",
    "5. Mutable"
   ]
  },
  {
   "cell_type": "code",
   "execution_count": 0,
   "metadata": {
    "application/vnd.databricks.v1+cell": {
     "cellMetadata": {},
     "inputWidgets": {},
     "nuid": "9e2e84c7-9046-450d-af6b-8b5b4695d0c3",
     "showTitle": false,
     "tableResultSettingsMap": {},
     "title": ""
    },
    "colab": {
     "base_uri": "https://localhost:8080/"
    },
    "id": "LRy9H4HnJLxd",
    "outputId": "1ab43eb4-8b2c-4d2b-eb1d-a0b79d220d2d"
   },
   "outputs": [],
   "source": [
    "l=[10,'a',20,10,10.5,10,True,'Python']\n",
    "print(l)\n",
    "print(type(l))"
   ]
  },
  {
   "cell_type": "code",
   "execution_count": 0,
   "metadata": {
    "application/vnd.databricks.v1+cell": {
     "cellMetadata": {},
     "inputWidgets": {},
     "nuid": "a53b5124-0835-461e-b8fe-c626f68576b6",
     "showTitle": false,
     "tableResultSettingsMap": {},
     "title": ""
    },
    "colab": {
     "base_uri": "https://localhost:8080/",
     "height": 35
    },
    "id": "sCnvGle5MK-g",
    "outputId": "343abc20-5f7b-4414-f5c4-d55ecdd47402"
   },
   "outputs": [],
   "source": [
    "l[-1]"
   ]
  },
  {
   "cell_type": "code",
   "execution_count": 0,
   "metadata": {
    "application/vnd.databricks.v1+cell": {
     "cellMetadata": {},
     "inputWidgets": {},
     "nuid": "06380ec4-d99f-452b-a5d5-8f27501275da",
     "showTitle": false,
     "tableResultSettingsMap": {},
     "title": ""
    },
    "colab": {
     "base_uri": "https://localhost:8080/"
    },
    "id": "fNtHnFTEKG9R",
    "outputId": "593b660c-8846-4a13-b1ef-e3a144349e5e"
   },
   "outputs": [],
   "source": [
    "l=[10,'a',20]\n",
    "print(l)\n",
    "print(type(l))\n",
    "print(id(l))"
   ]
  },
  {
   "cell_type": "code",
   "execution_count": 0,
   "metadata": {
    "application/vnd.databricks.v1+cell": {
     "cellMetadata": {},
     "inputWidgets": {},
     "nuid": "2d351db0-41ce-4222-83fc-cf4495a83d26",
     "showTitle": false,
     "tableResultSettingsMap": {},
     "title": ""
    },
    "colab": {
     "base_uri": "https://localhost:8080/"
    },
    "id": "DEsnsS7AQMms",
    "outputId": "f4e7ebde-333c-4f39-da3d-fea60d9931b2"
   },
   "outputs": [],
   "source": [
    "l.append(999)\n",
    "print(l)"
   ]
  },
  {
   "cell_type": "code",
   "execution_count": 0,
   "metadata": {
    "application/vnd.databricks.v1+cell": {
     "cellMetadata": {},
     "inputWidgets": {},
     "nuid": "58c550db-e6c5-42fc-bd5d-30a0d2bb2862",
     "showTitle": false,
     "tableResultSettingsMap": {},
     "title": ""
    },
    "colab": {
     "base_uri": "https://localhost:8080/"
    },
    "id": "Zm32tcFIQQcA",
    "outputId": "697b542c-42de-4ff4-9a2c-4cfb62b560c6"
   },
   "outputs": [],
   "source": [
    "#l.remove(20)\n",
    "print(l)"
   ]
  },
  {
   "cell_type": "markdown",
   "metadata": {
    "application/vnd.databricks.v1+cell": {
     "cellMetadata": {},
     "inputWidgets": {},
     "nuid": "c63aef93-dda7-432b-9063-935d19ae61a4",
     "showTitle": false,
     "tableResultSettingsMap": {},
     "title": ""
    },
    "id": "qriu1JUEP0Lc"
   },
   "source": [
    "Tuple:\n",
    "\n",
    "\n",
    "1.   ()\n",
    "2.   Exactly same as list except that it is immutable\n",
    "3. read only version of list is Tuple\n",
    "\n"
   ]
  },
  {
   "cell_type": "code",
   "execution_count": 0,
   "metadata": {
    "application/vnd.databricks.v1+cell": {
     "cellMetadata": {},
     "inputWidgets": {},
     "nuid": "4aec1e7f-dc59-454f-9da6-e15f5a8699cd",
     "showTitle": false,
     "tableResultSettingsMap": {},
     "title": ""
    },
    "colab": {
     "base_uri": "https://localhost:8080/"
    },
    "id": "LeU1cSdBLihd",
    "outputId": "7e70c219-62bf-4a8f-84e2-5feaf2d00e28"
   },
   "outputs": [],
   "source": [
    "\n",
    "t=(10,'pyhton',10.5,False)\n",
    "print(t)\n",
    "print(type(t))"
   ]
  },
  {
   "cell_type": "code",
   "execution_count": 0,
   "metadata": {
    "application/vnd.databricks.v1+cell": {
     "cellMetadata": {},
     "inputWidgets": {},
     "nuid": "c8ed4769-7a81-4ccb-95fc-f0175074a296",
     "showTitle": false,
     "tableResultSettingsMap": {},
     "title": ""
    },
    "colab": {
     "base_uri": "https://localhost:8080/"
    },
    "id": "KcsZ0KeqQiPx",
    "outputId": "71184af4-7a9b-4b78-a127-9cfa26036fc2"
   },
   "outputs": [],
   "source": [
    "t[0:3]"
   ]
  },
  {
   "cell_type": "code",
   "execution_count": 0,
   "metadata": {
    "application/vnd.databricks.v1+cell": {
     "cellMetadata": {},
     "inputWidgets": {},
     "nuid": "8dddf5ce-f399-48c1-9729-6a6395f146e0",
     "showTitle": false,
     "tableResultSettingsMap": {},
     "title": ""
    },
    "colab": {
     "base_uri": "https://localhost:8080/",
     "height": 141
    },
    "id": "SoSliVAmQIzP",
    "outputId": "c5739795-8327-47aa-e1f3-26cd9e2cefb7"
   },
   "outputs": [],
   "source": [
    "t.append(99)"
   ]
  },
  {
   "cell_type": "code",
   "execution_count": 0,
   "metadata": {
    "application/vnd.databricks.v1+cell": {
     "cellMetadata": {},
     "inputWidgets": {},
     "nuid": "307d8500-97e4-447c-af36-6cdea87c17b8",
     "showTitle": false,
     "tableResultSettingsMap": {},
     "title": ""
    },
    "id": "2mGCeZApQcxl"
   },
   "outputs": [],
   "source": []
  },
  {
   "cell_type": "markdown",
   "metadata": {
    "application/vnd.databricks.v1+cell": {
     "cellMetadata": {},
     "inputWidgets": {},
     "nuid": "a6663063-9e48-46ff-9b81-c850d72cc3e7",
     "showTitle": false,
     "tableResultSettingsMap": {},
     "title": ""
    },
    "id": "BXiKDPMiRVBz"
   },
   "source": [
    "Set\n",
    "\n",
    "\n",
    "1.   {}\n",
    "2.   Duplicate not allowed\n",
    "3. order is not preserved\n",
    "4. index and slicing is not applicable\n",
    "5. Heteogenous objects\n",
    "6. Mutable\n",
    "\n"
   ]
  },
  {
   "cell_type": "code",
   "execution_count": 0,
   "metadata": {
    "application/vnd.databricks.v1+cell": {
     "cellMetadata": {},
     "inputWidgets": {},
     "nuid": "0fe047fe-4e07-4024-9d26-f53e688332b8",
     "showTitle": false,
     "tableResultSettingsMap": {},
     "title": ""
    },
    "colab": {
     "base_uri": "https://localhost:8080/"
    },
    "id": "xo7p7eAGR6Ap",
    "outputId": "7ffdcfde-e839-4b48-9592-b56fc6068522"
   },
   "outputs": [],
   "source": [
    "s={10,10,20,'a',True,10,10.5,99,99,'python'}\n",
    "print(s)"
   ]
  },
  {
   "cell_type": "code",
   "execution_count": 0,
   "metadata": {
    "application/vnd.databricks.v1+cell": {
     "cellMetadata": {},
     "inputWidgets": {},
     "nuid": "60119ba2-d998-4578-b017-0df7b9dfe5eb",
     "showTitle": false,
     "tableResultSettingsMap": {},
     "title": ""
    },
    "colab": {
     "base_uri": "https://localhost:8080/"
    },
    "id": "bp9medzoSAWR",
    "outputId": "8d71726c-83e5-40ca-fa26-077f49383ec5"
   },
   "outputs": [],
   "source": [
    "s.add(55)\n",
    "print(s)"
   ]
  },
  {
   "cell_type": "markdown",
   "metadata": {
    "application/vnd.databricks.v1+cell": {
     "cellMetadata": {},
     "inputWidgets": {},
     "nuid": "9b9e9d7b-b750-4c12-9b6a-8a65cd301623",
     "showTitle": false,
     "tableResultSettingsMap": {},
     "title": ""
    },
    "id": "H3sJO5sCSi0-"
   },
   "source": [
    "Dict:\n",
    "1.   {k:v}\n",
    "2.   Duplicates keys are not allowed\n",
    "3. duplicate values are allowed\n",
    "4. Heterogneous objects\n",
    "5. Mutable\n"
   ]
  },
  {
   "cell_type": "code",
   "execution_count": 0,
   "metadata": {
    "application/vnd.databricks.v1+cell": {
     "cellMetadata": {},
     "inputWidgets": {},
     "nuid": "378aa04c-4c2d-4a68-b69f-41ef4d4c9cd5",
     "showTitle": false,
     "tableResultSettingsMap": {},
     "title": ""
    },
    "colab": {
     "base_uri": "https://localhost:8080/"
    },
    "id": "YFk14dDjSOAo",
    "outputId": "699fafa8-ed6a-4b01-ca59-7aa29787955c"
   },
   "outputs": [],
   "source": [
    "d={1:'a',2:'b',3:'a',4:True,5:10.9}\n",
    "print(d)\n",
    "print(type(d))"
   ]
  },
  {
   "cell_type": "code",
   "execution_count": 0,
   "metadata": {
    "application/vnd.databricks.v1+cell": {
     "cellMetadata": {},
     "inputWidgets": {},
     "nuid": "521edaec-bef7-4d2f-85de-f3f01946af5a",
     "showTitle": false,
     "tableResultSettingsMap": {},
     "title": ""
    },
    "id": "tvAjbmdQSxJB"
   },
   "outputs": [],
   "source": [
    "d[3]='Naval'"
   ]
  },
  {
   "cell_type": "code",
   "execution_count": 0,
   "metadata": {
    "application/vnd.databricks.v1+cell": {
     "cellMetadata": {},
     "inputWidgets": {},
     "nuid": "aec4a869-e6ff-4a4b-b908-c7c0abc7ad8c",
     "showTitle": false,
     "tableResultSettingsMap": {},
     "title": ""
    },
    "colab": {
     "base_uri": "https://localhost:8080/"
    },
    "id": "4X-DSFffTU-j",
    "outputId": "d2bbca1e-85a1-4e20-e272-62cee9118993"
   },
   "outputs": [],
   "source": [
    "print(d)"
   ]
  },
  {
   "cell_type": "code",
   "execution_count": 0,
   "metadata": {
    "application/vnd.databricks.v1+cell": {
     "cellMetadata": {},
     "inputWidgets": {},
     "nuid": "a35c4b75-4957-41d7-982e-102219ca2b73",
     "showTitle": false,
     "tableResultSettingsMap": {},
     "title": ""
    },
    "id": "HAMSXfrPTWEW"
   },
   "outputs": [],
   "source": [
    "Range: sequnce of number"
   ]
  },
  {
   "cell_type": "code",
   "execution_count": 0,
   "metadata": {
    "application/vnd.databricks.v1+cell": {
     "cellMetadata": {},
     "inputWidgets": {},
     "nuid": "1bc6a19a-7acc-4030-ae0d-94ca46883ec5",
     "showTitle": false,
     "tableResultSettingsMap": {},
     "title": ""
    },
    "colab": {
     "base_uri": "https://localhost:8080/"
    },
    "id": "eRbeWfFWUado",
    "outputId": "5ee03636-12ba-4752-c0cf-d6727af54579"
   },
   "outputs": [],
   "source": [
    "r=range(10)\n",
    "print(r)\n",
    "print(type(r))"
   ]
  },
  {
   "cell_type": "code",
   "execution_count": 0,
   "metadata": {
    "application/vnd.databricks.v1+cell": {
     "cellMetadata": {},
     "inputWidgets": {},
     "nuid": "270a4509-16b8-4f22-bfea-33f71fff9f95",
     "showTitle": false,
     "tableResultSettingsMap": {},
     "title": ""
    },
    "colab": {
     "base_uri": "https://localhost:8080/"
    },
    "id": "S1WiuhQuUgAY",
    "outputId": "b2ae153e-d241-49ba-a669-08aa1ae93552"
   },
   "outputs": [],
   "source": [
    "for i in range(5):\n",
    "  print(i)"
   ]
  },
  {
   "cell_type": "code",
   "execution_count": 0,
   "metadata": {
    "application/vnd.databricks.v1+cell": {
     "cellMetadata": {},
     "inputWidgets": {},
     "nuid": "883e02c4-3b52-4440-bd15-80f630a9434d",
     "showTitle": false,
     "tableResultSettingsMap": {},
     "title": ""
    },
    "colab": {
     "base_uri": "https://localhost:8080/"
    },
    "id": "VjYZJax9VQc1",
    "outputId": "61d474d9-7dac-410b-a29e-8201d168e10d"
   },
   "outputs": [],
   "source": [
    "for i in range(5,11):\n",
    "  print(i)"
   ]
  },
  {
   "cell_type": "code",
   "execution_count": 0,
   "metadata": {
    "application/vnd.databricks.v1+cell": {
     "cellMetadata": {},
     "inputWidgets": {},
     "nuid": "672fcc60-cfce-4474-8bd5-3ce10e3d0f0d",
     "showTitle": false,
     "tableResultSettingsMap": {},
     "title": ""
    },
    "colab": {
     "base_uri": "https://localhost:8080/"
    },
    "id": "X851IfheVaMK",
    "outputId": "cbde6382-9401-446f-9131-66cf657188fb"
   },
   "outputs": [],
   "source": [
    "for i in range(2,21,2):\n",
    "  print(i)"
   ]
  },
  {
   "cell_type": "code",
   "execution_count": 0,
   "metadata": {
    "application/vnd.databricks.v1+cell": {
     "cellMetadata": {},
     "inputWidgets": {},
     "nuid": "2123686f-0081-4421-9217-bc3a8502c491",
     "showTitle": false,
     "tableResultSettingsMap": {},
     "title": ""
    },
    "id": "BM7dNphVVjcb"
   },
   "outputs": [],
   "source": []
  }
 ],
 "metadata": {
  "application/vnd.databricks.v1+notebook": {
   "computePreferences": null,
   "dashboards": [],
   "environmentMetadata": null,
   "inputWidgetPreferences": null,
   "language": "python",
   "notebookMetadata": {
    "pythonIndentUnit": 4
   },
   "notebookName": "Getting_started_with_python_",
   "widgets": {}
  },
  "colab": {
   "provenance": []
  },
  "kernelspec": {
   "display_name": "Python 3",
   "name": "python3"
  },
  "language_info": {
   "name": "python"
  }
 },
 "nbformat": 4,
 "nbformat_minor": 0
}
