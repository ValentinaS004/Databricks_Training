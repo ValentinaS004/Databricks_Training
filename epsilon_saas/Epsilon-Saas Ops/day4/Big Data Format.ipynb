{
 "cells": [
  {
   "cell_type": "code",
   "execution_count": 0,
   "metadata": {
    "application/vnd.databricks.v1+cell": {
     "cellMetadata": {},
     "inputWidgets": {},
     "nuid": "520082b6-de82-498d-8eba-2dcecab90120",
     "showTitle": false,
     "tableResultSettingsMap": {},
     "title": ""
    }
   },
   "outputs": [],
   "source": [
    "csv,json,parquet,xls, text, avro, binary ,orc etc\n",
    "\n",
    "\n",
    "parquet \n",
    "\n",
    "\n",
    "\n",
    "csv( 1 gb)\n",
    "\n",
    "70-90 % ( 97%)\n",
    "\n",
    "\n",
    "parquet( 17 mb)\n",
    "\n",
    "limitaton of parquet\n",
    "ACID,\n",
    "time travel\n",
    "schema evoltuion\n",
    "streaming and batch \n",
    "millions of partition"
   ]
  },
  {
   "cell_type": "code",
   "execution_count": 0,
   "metadata": {
    "application/vnd.databricks.v1+cell": {
     "cellMetadata": {},
     "inputWidgets": {},
     "nuid": "e251434c-8d13-4b80-91d9-1698430ebc25",
     "showTitle": false,
     "tableResultSettingsMap": {},
     "title": ""
    }
   },
   "outputs": [],
   "source": [
    "advance Table formats: delta, iceberg and hudi -- build lakehouse (dw+ dl)\n",
    "    \n",
    "    1. Delta lake (open source) (ext parquet): databricks (default)\n",
    "    2. Apache Iceberg(open source) (ext parquet): Snowflake (default)\n",
    "    3. Hudi (Open source)"
   ]
  }
 ],
 "metadata": {
  "application/vnd.databricks.v1+notebook": {
   "computePreferences": null,
   "dashboards": [],
   "environmentMetadata": {
    "base_environment": "",
    "environment_version": "2"
   },
   "inputWidgetPreferences": null,
   "language": "python",
   "notebookMetadata": {
    "pythonIndentUnit": 4
   },
   "notebookName": "Big Data Format",
   "widgets": {}
  },
  "language_info": {
   "name": "python"
  }
 },
 "nbformat": 4,
 "nbformat_minor": 0
}
