{
 "cells": [
  {
   "cell_type": "code",
   "execution_count": 0,
   "metadata": {
    "application/vnd.databricks.v1+cell": {
     "cellMetadata": {
      "byteLimit": 2048000,
      "rowLimit": 10000
     },
     "inputWidgets": {},
     "nuid": "0d855a6f-cc3f-426a-a038-323877083da0",
     "showTitle": false,
     "tableResultSettingsMap": {},
     "title": ""
    }
   },
   "outputs": [],
   "source": [
    "schema=[\"name\", \"subject\", \"Marks\", \"Attendance\"]\n",
    "\n",
    "student_data=[(\"John\",\"Math\", 90, 80),(\"Michael\", \"Science\", 70, None), (\"David\", \"History\", 50,40), (\"Kelvin\", \"Computer\", 40,None ),(\"Paul\", \"GEO\", None, None), (None,None,  None, None),(\"John\",\"Math\", 90, 80),(\"John\",\"Math\", 90, 80),(None,None,  None, None),(None,None,  None, None),(None,None,  None, None),(None,\"Math\", 90, 80),('Naval',None, 90, 80) ]\n",
    "\n",
    "df=spark.createDataFrame(data=student_data, schema=schema)\n",
    "display(df)"
   ]
  },
  {
   "cell_type": "code",
   "execution_count": 0,
   "metadata": {
    "application/vnd.databricks.v1+cell": {
     "cellMetadata": {},
     "inputWidgets": {},
     "nuid": "143c86ef-461c-47aa-9f66-9e0c4b71ab8b",
     "showTitle": false,
     "tableResultSettingsMap": {},
     "title": ""
    }
   },
   "outputs": [],
   "source": [
    "nulls in all records-- delete\n",
    "null in name col == fill it with no name\n",
    "null in subject-=== fill it with Data&AI\n",
    "null in marks and attendance == fill it with 45"
   ]
  },
  {
   "cell_type": "code",
   "execution_count": 0,
   "metadata": {
    "application/vnd.databricks.v1+cell": {
     "cellMetadata": {},
     "inputWidgets": {},
     "nuid": "46f53a28-b64b-487e-b59e-068bd0f33e52",
     "showTitle": false,
     "tableResultSettingsMap": {},
     "title": ""
    }
   },
   "outputs": [],
   "source": [
    "#hint\n",
    "1.drop duplicate\n",
    "2.dropna\n",
    "3.fillna"
   ]
  }
 ],
 "metadata": {
  "application/vnd.databricks.v1+notebook": {
   "computePreferences": null,
   "dashboards": [],
   "environmentMetadata": {
    "base_environment": "",
    "environment_version": "2"
   },
   "inputWidgetPreferences": null,
   "language": "python",
   "notebookMetadata": {
    "pythonIndentUnit": 4
   },
   "notebookName": "Handle the nulls",
   "widgets": {}
  },
  "language_info": {
   "name": "python"
  }
 },
 "nbformat": 4,
 "nbformat_minor": 0
}
