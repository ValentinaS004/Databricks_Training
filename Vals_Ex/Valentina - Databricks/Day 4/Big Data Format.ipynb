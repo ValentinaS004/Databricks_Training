{
 "cells": [
  {
   "cell_type": "markdown",
   "metadata": {
    "application/vnd.databricks.v1+cell": {
     "cellMetadata": {},
     "inputWidgets": {},
     "nuid": "4a442deb-6222-408d-87aa-1972b5faa233",
     "showTitle": false,
     "tableResultSettingsMap": {},
     "title": ""
    }
   },
   "source": [
    "csv,json,parquet,xls, text, avro, binary ,orc etc\n",
    "\n",
    "\n",
    "parquet \n",
    "\n",
    "\n",
    "\n",
    "csv( 1 gb)\n",
    "\n",
    "70-90 % ( 97%)\n",
    "\n",
    "\n",
    "parquet( 17 mb)\n",
    "\n",
    "limitaton of parquet\n",
    "ACID,\n",
    "time travel\n",
    "schema evoltuion\n",
    "streaming and batch \n",
    "millions of partition"
   ]
  },
  {
   "cell_type": "markdown",
   "metadata": {
    "application/vnd.databricks.v1+cell": {
     "cellMetadata": {},
     "inputWidgets": {},
     "nuid": "6bed89cc-c466-49c5-891e-9a18932742e4",
     "showTitle": false,
     "tableResultSettingsMap": {},
     "title": ""
    }
   },
   "source": [
    "dvance Table formats: delta, iceberg and hudi -- build lakehouse (dw+ dl)\n",
    "    \n",
    "    1. Delta lake (open source) (ext parquet): databricks (default)\n",
    "    2. Apache Iceberg(open source) (ext parquet): Snowflake (default)\n",
    "    3. Hudi (Open source)"
   ]
  }
 ],
 "metadata": {
  "application/vnd.databricks.v1+notebook": {
   "computePreferences": null,
   "dashboards": [],
   "environmentMetadata": {
    "base_environment": "",
    "environment_version": "2"
   },
   "inputWidgetPreferences": null,
   "language": "python",
   "notebookMetadata": {
    "pythonIndentUnit": 4
   },
   "notebookName": "Big Data Format",
   "widgets": {}
  },
  "language_info": {
   "name": "python"
  }
 },
 "nbformat": 4,
 "nbformat_minor": 0
}
